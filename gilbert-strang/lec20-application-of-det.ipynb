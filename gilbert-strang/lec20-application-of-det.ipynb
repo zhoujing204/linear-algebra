{
 "cells": [
  {
   "cell_type": "markdown",
   "metadata": {},
   "source": [
    "# Lecture 20: Application of the Determinant"
   ]
  },
  {
   "cell_type": "markdown",
   "metadata": {},
   "source": [
    "# Formula for Inverse of a Matrix"
   ]
  },
  {
   "cell_type": "markdown",
   "metadata": {},
   "source": [
    "$$\n",
    "A^{-1} = \\frac {1}{detA}C^T \\\\\n",
    "$$\n",
    "\n",
    "$C$ is the cofactor matrix of $A$.\n",
    "\n",
    "$$\n",
    "c_{ij} = (-1)^{i+j}detA_{ij}\n",
    "$$\n",
    "\n",
    "Check\n",
    "$$\n",
    "AC^T = (detA)I\n",
    "$$"
   ]
  },
  {
   "cell_type": "markdown",
   "metadata": {},
   "source": [
    "## Cramer's Rule"
   ]
  },
  {
   "cell_type": "markdown",
   "metadata": {},
   "source": [
    "$$\n",
    "Ax = b \\\\\n",
    "x = A^{-1}b \\\\\n",
    "x = \\frac {1}{detA}C^Tb \\\\\n",
    "x_i = \\frac {detB_i}{detA} \\\\\n",
    "B_i = \\begin{bmatrix}\n",
    "a_{11} & \\cdots & b_1 & \\cdots & a_{1n} \\\\\n",
    "\\vdots & \\ddots & \\vdots & \\ddots & \\vdots \\\\\n",
    "a_{n1} & \\cdots & b_n & \\cdots & a_{nn} \\\\\n",
    "\\end{bmatrix}\n",
    "$$\n",
    "\n",
    "$B_i$ is $A$ with column $i$ replaced by $b$."
   ]
  },
  {
   "cell_type": "markdown",
   "metadata": {},
   "source": [
    "## |DetA| =  Volume of Box"
   ]
  }
 ],
 "metadata": {
  "kernelspec": {
   "display_name": "Python 3",
   "language": "python",
   "name": "python3"
  },
  "language_info": {
   "name": "python",
   "version": "3.10.6"
  }
 },
 "nbformat": 4,
 "nbformat_minor": 2
}

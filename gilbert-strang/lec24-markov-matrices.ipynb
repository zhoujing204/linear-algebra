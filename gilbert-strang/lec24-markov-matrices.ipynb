{
 "cells": [
  {
   "cell_type": "markdown",
   "metadata": {},
   "source": [
    "# Lecture 24: Markov matrices and steady-state"
   ]
  },
  {
   "cell_type": "markdown",
   "metadata": {},
   "source": [
    "## Markov Matrices"
   ]
  },
  {
   "cell_type": "markdown",
   "metadata": {},
   "source": [
    "A typical markov matrix\n",
    "\n",
    "$$\n",
    "A = \n",
    "\\begin{bmatrix}\n",
    "0.1 & 0.1 & 0.3 \\\\\n",
    "0.2 & 0.99 & 0.3 \\\\\n",
    "0.7 & 0 & 0.4\n",
    "\\end{bmatrix}\n",
    "$$\n",
    "\n",
    "Properties of a markov matrix:\n",
    "\n",
    "1. All entries are non-negative\n",
    "\n",
    "2. All columns sum to 1\n",
    "\n",
    "Eigenvalues of a markov matrix:\n",
    "\n",
    "1. The matrix has a eigenvalue of 1.\n",
    "\n",
    "2. All other eigenvalues have absolute value less than 1."
   ]
  },
  {
   "cell_type": "code",
   "execution_count": null,
   "metadata": {},
   "outputs": [],
   "source": []
  }
 ],
 "metadata": {
  "language_info": {
   "name": "python"
  }
 },
 "nbformat": 4,
 "nbformat_minor": 2
}

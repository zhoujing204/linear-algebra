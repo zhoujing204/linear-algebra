{
 "cells": [
  {
   "cell_type": "markdown",
   "metadata": {},
   "source": [
    "# Lecture 17-Orthogonal basis and Orthogonal Matrix"
   ]
  },
  {
   "cell_type": "markdown",
   "metadata": {},
   "source": [
    "## Orthonormal vectors"
   ]
  },
  {
   "cell_type": "markdown",
   "metadata": {},
   "source": [
    "$$\n",
    "q_i^T q_j =\n",
    "\\begin {cases}\n",
    "0 &\\text {\\(i \\neq j \\)}  \\\\\n",
    "1 &\\text {\\(i=j \\)}  \\\\\n",
    "\\end {cases}\n",
    "$$"
   ]
  },
  {
   "cell_type": "markdown",
   "metadata": {},
   "source": [
    "## Orthogonal matrix"
   ]
  },
  {
   "cell_type": "markdown",
   "metadata": {},
   "source": [
    "$$ \n",
    "Q = [q_1, q_2, \\cdots, q_n] \\\\ \n",
    "$$ \n",
    "$Q$ is orthonormal if $ Q^T Q = I $\n",
    "\n",
    "That means $Q$ is a square matrix and its columns are orthonormal vectors.\n",
    "\n",
    "If $Q^T Q = I$, that means $ Q^{-1} = Q^T$\n",
    "\n",
    "Here are some examples of orthonormal matrix:\n",
    "\n",
    "Example 1:\n",
    "$$\n",
    "\\begin {bmatrix}\n",
    "\\frac {1}{\\sqrt{2}} & \\frac {1}{\\sqrt{2}} \\\\\n",
    "\\frac {1}{\\sqrt{2}} & -\\frac {1}{\\sqrt{2}} \\\\\n",
    "\\end {bmatrix}\n",
    "$$\n",
    "\n",
    "Example 2: rotation matrix\n",
    "$$\n",
    "\\begin {bmatrix}\n",
    "\\cos\\theta & -\\sin\\theta \\\\\n",
    "\\sin\\theta & \\cos\\theta \\\\\n",
    "\\end {bmatrix}\n",
    "$$\n",
    "\n",
    "Example 3: Hadamard matrix\n",
    "$$\n",
    "\\frac {1}{2}\n",
    "\\begin {bmatrix}\n",
    "1 & 1 & 1 & 1 \\\\\n",
    "1 & -1 & 1 & -1 \\\\ \n",
    "1 & 1 & -1 & -1 \\\\\n",
    "1 & -1 & -1 & 1 \\\\ \n",
    "\\end {bmatrix}\n",
    "$$\n",
    "\n",
    "$Q$ is a square matrix that has orthonormal columns, projection matrix onto the column space will be:\n",
    "$$\n",
    "P = Q(Q^T Q)^{-1} Q^T = Q Q^T = I\n",
    "$$\n",
    "\n",
    "There is:\n",
    "$$\n",
    "A^T A \\hat{x}= b \n",
    "$$\n",
    "\n",
    "But now $A$ is $Q$ and $Q$ is orthonormal matrix, so:\n",
    "$$\n",
    "Q^T Q \\hat{x} = Q^T b \\\\\n",
    "\\hat{x} = Q^T b \\\\\n",
    "\\hat{x_i} = q_i^T b\n",
    "$$\n",
    "\n",
    "\n",
    "\n"
   ]
  },
  {
   "cell_type": "markdown",
   "metadata": {},
   "source": [
    "## The Gram-Schmidt process"
   ]
  },
  {
   "cell_type": "markdown",
   "metadata": {},
   "source": [
    "Our goal is to find an orthonormal basis for the column space of $A$.\n",
    "\n",
    "We have independent vectors $a, b, c$, we want to find $q_1, q_2, q_3$ that are orthonormal vectors and span the same space as $a, b, c$. Vectors $p, q$ are the projections of $c$ onto the vectors $a, b$. Vector $r$ is the projection of $b$ onto $a$.\n",
    "\n",
    "$$\n",
    "A = a \\\\\n",
    "B = b - r = b - \\frac {A^T b}{A^T A} A \\\\\n",
    "C = c - p - q = c - \\frac {A^T c}{A^T A} A- \\frac {B^T c}{B^T B} B \\\\\n",
    "q_1 = \\frac {a}{\\|a\\|} \\\\\n",
    "q_2 = \\frac {B}{\\|B\\|} \\\\\n",
    "q_3 = \\frac {C}{\\|C\\|} \\\\\n",
    "$$"
   ]
  },
  {
   "cell_type": "markdown",
   "metadata": {},
   "source": [
    "## The gram_schmidt function"
   ]
  },
  {
   "cell_type": "code",
   "execution_count": 13,
   "metadata": {},
   "outputs": [],
   "source": [
    "import numpy as np\n",
    "import numpy.linalg as la\n",
    "\n",
    "def orthogonalize(U, eps=1e-15):\n",
    "    \"\"\"\n",
    "    Orthogonalizes the matrix U (d x n) using Gram-Schmidt Orthogonalization.\n",
    "    If the columns of U are linearly dependent with rank(U) = r, the last n-r columns \n",
    "    will be 0.\n",
    "    \n",
    "    Args:\n",
    "        U (numpy.array): A d x n matrix with columns that need to be orthogonalized.\n",
    "        eps (float): Threshold value below which numbers are regarded as 0 (default=1e-15).\n",
    "    \n",
    "    Returns:\n",
    "        (numpy.array): A d x n orthogonal matrix. If the input matrix U's cols were\n",
    "            not linearly independent, then the last n-r cols are zeros.\n",
    "    \n",
    "    Examples:\n",
    "    ```python\n",
    "    >>> import numpy as np\n",
    "    >>> import gram_schmidt as gs\n",
    "    >>> gs.orthogonalize(np.array([[10., 3.], [7., 8.]]))\n",
    "    array([[ 0.81923192, -0.57346234],\n",
    "       [ 0.57346234,  0.81923192]])\n",
    "    >>> gs.orthogonalize(np.array([[10., 3., 4., 8.], [7., 8., 6., 1.]]))\n",
    "    array([[ 0.81923192 -0.57346234  0.          0.        ]\n",
    "       [ 0.57346234  0.81923192  0.          0.        ]])\n",
    "    ```\n",
    "    \"\"\"\n",
    "    \n",
    "    n = len(U[0])\n",
    "    # numpy can readily reference rows using indices, but referencing full rows is a little\n",
    "    # dirty. So, work with transpose(U)\n",
    "    V = U.T\n",
    "    for i in range(n):\n",
    "        prev_basis = V[0:i]     # orthonormal basis before V[i]\n",
    "        coeff_vec = np.dot(prev_basis, V[i].T)  # each entry is np.dot(V[j], V[i]) for all j < i\n",
    "        # subtract projections of V[i] onto already determined basis V[0:i]\n",
    "        V[i] -= np.dot(coeff_vec, prev_basis).T\n",
    "        if la.norm(V[i]) < eps:\n",
    "            V[i][V[i] < eps] = 0.   # set the small entries to 0\n",
    "        else:\n",
    "            V[i] /= la.norm(V[i])\n",
    "    return V.T"
   ]
  },
  {
   "cell_type": "code",
   "execution_count": 14,
   "metadata": {},
   "outputs": [
    {
     "data": {
      "text/plain": [
       "array([[ 0.81923192, -0.57346234],\n",
       "       [ 0.57346234,  0.81923192]])"
      ]
     },
     "execution_count": 14,
     "metadata": {},
     "output_type": "execute_result"
    }
   ],
   "source": [
    "orthogonalize(np.array([[10., 3.], [7., 8.]]))"
   ]
  },
  {
   "cell_type": "code",
   "execution_count": 15,
   "metadata": {},
   "outputs": [
    {
     "data": {
      "text/plain": [
       "array([[ 5.77350269e-01, -1.57009246e-16],\n",
       "       [ 5.77350269e-01, -7.07106781e-01],\n",
       "       [ 5.77350269e-01,  7.07106781e-01]])"
      ]
     },
     "execution_count": 15,
     "metadata": {},
     "output_type": "execute_result"
    }
   ],
   "source": [
    "orthogonalize(np.array([[1., 1.], [1., 0],[1, 2]]))"
   ]
  },
  {
   "cell_type": "markdown",
   "metadata": {},
   "source": [
    "## The gram_schmidt function in Sympy"
   ]
  },
  {
   "cell_type": "code",
   "execution_count": 16,
   "metadata": {},
   "outputs": [
    {
     "data": {
      "text/plain": [
       "[Matrix([\n",
       " [1],\n",
       " [0]]),\n",
       " Matrix([\n",
       " [0],\n",
       " [1]])]"
      ]
     },
     "execution_count": 16,
     "metadata": {},
     "output_type": "execute_result"
    }
   ],
   "source": [
    "from sympy import Matrix\n",
    "from sympy.matrices.dense import GramSchmidt as gs\n",
    "vlist = [Matrix([3, 0]), Matrix([2, 2])]\n",
    "gs(vlist, True)"
   ]
  },
  {
   "cell_type": "code",
   "execution_count": 17,
   "metadata": {},
   "outputs": [
    {
     "data": {
      "text/plain": [
       "(Matrix([\n",
       " [0.577350269189626,                  0],\n",
       " [0.577350269189626, -0.707106781186547],\n",
       " [0.577350269189626,  0.707106781186547]]),\n",
       " Matrix([\n",
       " [1.73205080756888, 1.73205080756888],\n",
       " [               0,  1.4142135623731]]))"
      ]
     },
     "execution_count": 17,
     "metadata": {},
     "output_type": "execute_result"
    }
   ],
   "source": [
    "M = Matrix([[1., 1.], [1., 0],[1, 2]])\n",
    "M.QRdecomposition()"
   ]
  },
  {
   "cell_type": "code",
   "execution_count": 25,
   "metadata": {},
   "outputs": [
    {
     "data": {
      "text/latex": [
       "$\\displaystyle \\left[\\begin{matrix}\\frac{a}{\\sqrt{\\left|{a}\\right|^{2} + \\left|{b}\\right|^{2}}} & \\frac{- \\frac{a \\overline{a}}{a \\overline{a} + b \\overline{b}} - \\frac{2 a \\overline{b}}{a \\overline{a} + b \\overline{b}} + 1}{\\sqrt{\\left|{\\frac{a \\overline{a}}{a \\overline{a} + b \\overline{b}} + \\frac{2 a \\overline{b}}{a \\overline{a} + b \\overline{b}} - 1}\\right|^{2} + \\left|{\\frac{b \\overline{a}}{a \\overline{a} + b \\overline{b}} + \\frac{2 b \\overline{b}}{a \\overline{a} + b \\overline{b}} - 2}\\right|^{2}}}\\\\\\frac{b}{\\sqrt{\\left|{a}\\right|^{2} + \\left|{b}\\right|^{2}}} & \\frac{- \\frac{b \\overline{a}}{a \\overline{a} + b \\overline{b}} - \\frac{2 b \\overline{b}}{a \\overline{a} + b \\overline{b}} + 2}{\\sqrt{\\left|{\\frac{a \\overline{a}}{a \\overline{a} + b \\overline{b}} + \\frac{2 a \\overline{b}}{a \\overline{a} + b \\overline{b}} - 1}\\right|^{2} + \\left|{\\frac{b \\overline{a}}{a \\overline{a} + b \\overline{b}} + \\frac{2 b \\overline{b}}{a \\overline{a} + b \\overline{b}} - 2}\\right|^{2}}}\\end{matrix}\\right]$"
      ],
      "text/plain": [
       "Matrix([\n",
       "[a/sqrt(Abs(a)**2 + Abs(b)**2), (-a*conjugate(a)/(a*conjugate(a) + b*conjugate(b)) - 2*a*conjugate(b)/(a*conjugate(a) + b*conjugate(b)) + 1)/sqrt(Abs(a*conjugate(a)/(a*conjugate(a) + b*conjugate(b)) + 2*a*conjugate(b)/(a*conjugate(a) + b*conjugate(b)) - 1)**2 + Abs(b*conjugate(a)/(a*conjugate(a) + b*conjugate(b)) + 2*b*conjugate(b)/(a*conjugate(a) + b*conjugate(b)) - 2)**2)],\n",
       "[b/sqrt(Abs(a)**2 + Abs(b)**2), (-b*conjugate(a)/(a*conjugate(a) + b*conjugate(b)) - 2*b*conjugate(b)/(a*conjugate(a) + b*conjugate(b)) + 2)/sqrt(Abs(a*conjugate(a)/(a*conjugate(a) + b*conjugate(b)) + 2*a*conjugate(b)/(a*conjugate(a) + b*conjugate(b)) - 1)**2 + Abs(b*conjugate(a)/(a*conjugate(a) + b*conjugate(b)) + 2*b*conjugate(b)/(a*conjugate(a) + b*conjugate(b)) - 2)**2)]])"
      ]
     },
     "execution_count": 25,
     "metadata": {},
     "output_type": "execute_result"
    }
   ],
   "source": [
    "from sympy import symbols\n",
    "\n",
    "a, b, c, d = symbols('a b c d')\n",
    "M = Matrix([[a, 1], [b, 2]])\n",
    "M.QRdecomposition()[0]"
   ]
  },
  {
   "cell_type": "code",
   "execution_count": 26,
   "metadata": {},
   "outputs": [
    {
     "data": {
      "text/latex": [
       "$\\displaystyle \\left[\\begin{matrix}\\sqrt{\\left|{a}\\right|^{2} + \\left|{b}\\right|^{2}} & \\left(\\frac{\\overline{a}}{a \\overline{a} + b \\overline{b}} + \\frac{2 \\overline{b}}{a \\overline{a} + b \\overline{b}}\\right) \\sqrt{\\left|{a}\\right|^{2} + \\left|{b}\\right|^{2}}\\\\0 & \\sqrt{\\left|{\\frac{a \\overline{a}}{a \\overline{a} + b \\overline{b}} + \\frac{2 a \\overline{b}}{a \\overline{a} + b \\overline{b}} - 1}\\right|^{2} + \\left|{\\frac{b \\overline{a}}{a \\overline{a} + b \\overline{b}} + \\frac{2 b \\overline{b}}{a \\overline{a} + b \\overline{b}} - 2}\\right|^{2}}\\end{matrix}\\right]$"
      ],
      "text/plain": [
       "Matrix([\n",
       "[sqrt(Abs(a)**2 + Abs(b)**2),                                                                                                             (conjugate(a)/(a*conjugate(a) + b*conjugate(b)) + 2*conjugate(b)/(a*conjugate(a) + b*conjugate(b)))*sqrt(Abs(a)**2 + Abs(b)**2)],\n",
       "[                          0, sqrt(Abs(a*conjugate(a)/(a*conjugate(a) + b*conjugate(b)) + 2*a*conjugate(b)/(a*conjugate(a) + b*conjugate(b)) - 1)**2 + Abs(b*conjugate(a)/(a*conjugate(a) + b*conjugate(b)) + 2*b*conjugate(b)/(a*conjugate(a) + b*conjugate(b)) - 2)**2)]])"
      ]
     },
     "execution_count": 26,
     "metadata": {},
     "output_type": "execute_result"
    }
   ],
   "source": [
    "M.QRdecomposition()[1]"
   ]
  },
  {
   "cell_type": "markdown",
   "metadata": {},
   "source": [
    "## A = QR"
   ]
  },
  {
   "cell_type": "markdown",
   "metadata": {},
   "source": [
    "$Q$ is the orthonormal matrix, $R$ is upper triangular matrix."
   ]
  },
  {
   "cell_type": "code",
   "execution_count": 19,
   "metadata": {},
   "outputs": [
    {
     "data": {
      "text/plain": [
       "(array([[-0.81923192, -0.57346234],\n",
       "        [-0.57346234,  0.81923192]]),\n",
       " array([[-12.20655562,  -7.04539452],\n",
       "        [  0.        ,   4.83346833]]))"
      ]
     },
     "execution_count": 19,
     "metadata": {},
     "output_type": "execute_result"
    }
   ],
   "source": [
    "import numpy as np\n",
    "import numpy.linalg as la\n",
    "\n",
    "la.qr(np.array([[10., 3.], [7., 8.]]))"
   ]
  },
  {
   "cell_type": "code",
   "execution_count": 20,
   "metadata": {},
   "outputs": [
    {
     "data": {
      "text/plain": [
       "(array([[-5.77350269e-01, -9.33980149e-17],\n",
       "        [-5.77350269e-01, -7.07106781e-01],\n",
       "        [-5.77350269e-01,  7.07106781e-01]]),\n",
       " array([[-1.73205081, -1.73205081],\n",
       "        [ 0.        ,  1.41421356]]))"
      ]
     },
     "execution_count": 20,
     "metadata": {},
     "output_type": "execute_result"
    }
   ],
   "source": [
    "la.qr(np.array([[1., 1.], [1., 0],[1, 2]]))"
   ]
  }
 ],
 "metadata": {
  "kernelspec": {
   "display_name": "Python 3",
   "language": "python",
   "name": "python3"
  },
  "language_info": {
   "codemirror_mode": {
    "name": "ipython",
    "version": 3
   },
   "file_extension": ".py",
   "mimetype": "text/x-python",
   "name": "python",
   "nbconvert_exporter": "python",
   "pygments_lexer": "ipython3",
   "version": "3.10.6"
  }
 },
 "nbformat": 4,
 "nbformat_minor": 2
}

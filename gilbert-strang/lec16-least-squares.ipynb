{
 "cells": [
  {
   "cell_type": "markdown",
   "metadata": {},
   "source": [
    "# Lecture 16: Least Squares"
   ]
  },
  {
   "cell_type": "markdown",
   "metadata": {},
   "source": [
    "$P$ is the projection matrix onto the column space of $A$.\n",
    "\n",
    "so\n",
    "$$\n",
    "P = A * (A^T * A)^{-1} * A^T \\\\\n",
    "$$\n",
    "\n",
    "If $b$ is in the column space of $A$, then $Pb = b$.\n",
    "\n",
    "If b is perpendicular to the column space of $A$, then $Pb = 0$."
   ]
  },
  {
   "cell_type": "code",
   "execution_count": null,
   "metadata": {},
   "outputs": [],
   "source": []
  }
 ],
 "metadata": {
  "language_info": {
   "name": "python"
  }
 },
 "nbformat": 4,
 "nbformat_minor": 2
}
